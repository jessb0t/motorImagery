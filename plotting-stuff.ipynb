{
 "cells": [
  {
   "cell_type": "code",
   "execution_count": 1,
   "metadata": {},
   "outputs": [],
   "source": [
    "import numpy as np\n",
    "import matplotlib.pyplot as plt\n",
    "import os\n",
    "import scipy.stats as stat"
   ]
  },
  {
   "cell_type": "code",
   "execution_count": 2,
   "metadata": {
    "scrolled": true
   },
   "outputs": [],
   "source": [
    "path = \"/Users/jessraissouni/github/motorImagery/processed_data\"\n",
    "filelist = os.listdir(path)"
   ]
  },
  {
   "cell_type": "code",
   "execution_count": 3,
   "metadata": {},
   "outputs": [
    {
     "name": "stdout",
     "output_type": "stream",
     "text": [
      "0 hand_Epochs_Img_gamma1.npy\n",
      "1 .DS_Store\n",
      "2 hand_Epochs_Img_gamma2.npy\n",
      "3 hand_Epochs_Overt_beta2.npy\n",
      "4 hand_Epochs_Img_beta1.npy\n",
      "5 Tng_Epochs_Img_gamma1.npy\n",
      "6 Tng_Epochs_Overt_gamma1.npy\n",
      "7 hand_Epochs_Overt_beta3.npy\n",
      "8 hand_Epochs_Overt_beta1.npy\n",
      "9 hand_Epochs_Img_beta2.npy\n",
      "10 Tng_Epochs_Img_gamma2.npy\n",
      "11 Tng_Epochs_Overt_gamma2.npy\n",
      "12 hand_Epochs_Img_beta3.npy\n",
      "13 hand_Epochs_Overt_gammaH.npy\n",
      "14 hand_Epochs_Overt_gamma1.npy\n",
      "15 hand_Epochs_Overt_gamma2.npy\n",
      "16 Tng_Epochs_Img_gammaH.npy\n",
      "17 Tng_Epochs_Overt_gammaH.npy\n",
      "18 hand_Epochs_Img_gammaH.npy\n",
      "19 Tng_Epochs_Img_beta3.npy\n",
      "20 Tng_Epochs_Overt_beta1.npy\n",
      "21 Tng_Epochs_Img_beta2.npy\n",
      "22 Tng_Epochs_Overt_beta2.npy\n",
      "23 Tng_Epochs_Overt_beta3.npy\n",
      "24 Tng_Epochs_Img_beta1.npy\n"
     ]
    }
   ],
   "source": [
    "for x, file in enumerate(filelist):\n",
    "    print(x, file)"
   ]
  },
  {
   "cell_type": "code",
   "execution_count": 4,
   "metadata": {},
   "outputs": [],
   "source": [
    "hand_overt_beta1 = np.load(path + '/' + filelist[7])\n",
    "hand_overt_beta2 = np.load(path + '/' + filelist[2])\n",
    "hand_overt_beta3 = np.load(path + '/' + filelist[6])\n",
    "hand_overt_gamma1 = np.load(path + '/' + filelist[13])\n",
    "hand_overt_gamma2 = np.load(path + '/' + filelist[14])\n",
    "hand_overt_gammaH = np.load(path + '/' + filelist[12])"
   ]
  },
  {
   "cell_type": "code",
   "execution_count": 5,
   "metadata": {},
   "outputs": [
    {
     "data": {
      "text/plain": [
       "array([[[ 4.68260543e+01,  4.71208285e+01,  4.63883561e+01, ...,\n",
       "          1.79672112e+01,  2.36985973e+01,  2.63607407e+01],\n",
       "        [ 4.40650825e+01,  4.50738978e+01,  4.55002990e+01, ...,\n",
       "          5.91862086e+01,  6.63179023e+01,  6.97760997e+01],\n",
       "        [ 6.58265096e+01,  6.37749264e+01,  6.06900279e+01, ...,\n",
       "         -2.91887579e+01, -3.07650231e+01, -3.06233315e+01],\n",
       "        ...,\n",
       "        [-3.17164521e+01, -2.23756328e+01,  4.64183572e-01, ...,\n",
       "          3.16946056e+01,  2.10074589e+01,  1.27158527e+01],\n",
       "        [-3.47792231e+01, -2.55022491e+01, -2.72266549e+00, ...,\n",
       "          1.87408047e+01,  8.15035256e+00,  7.80607029e-02],\n",
       "        [-3.45717935e+01, -2.52154620e+01, -2.41653990e+00, ...,\n",
       "          3.14127242e+01,  2.07257431e+01,  1.26730004e+01]],\n",
       "\n",
       "       [[-1.22348617e+02, -1.18025348e+02, -1.11750226e+02, ...,\n",
       "          6.57934155e+01,  5.73009419e+01,  4.64894400e+01],\n",
       "        [-1.64428004e+02, -1.60580679e+02, -1.55294096e+02, ...,\n",
       "         -1.05329523e+02, -1.04229818e+02, -1.05074672e+02],\n",
       "        [-2.42060451e+01, -2.50962895e+01, -2.38217282e+01, ...,\n",
       "         -1.76078226e+00, -7.95499060e-01, -6.20235489e-01],\n",
       "        ...,\n",
       "        [-6.61233054e+00, -3.20032220e+00, -1.87055911e+01, ...,\n",
       "          8.08616147e+00,  4.01675902e+00,  4.90084433e+00],\n",
       "        [-1.00519679e+01, -6.79712182e+00, -2.24385666e+01, ...,\n",
       "          1.44367639e+01,  1.01218764e+01,  1.07479863e+01],\n",
       "        [-7.71763909e+00, -4.60399708e+00, -2.02805241e+01, ...,\n",
       "          1.43365033e+01,  9.91215787e+00,  1.04286051e+01]],\n",
       "\n",
       "       [[-3.61548656e+01, -3.52046740e+01, -3.16509592e+01, ...,\n",
       "         -7.43143320e+01, -6.72889942e+01, -5.82764794e+01],\n",
       "        [-1.59883592e+02, -1.52614804e+02, -1.47958242e+02, ...,\n",
       "          6.44384887e+01,  6.46698422e+01,  6.60431480e+01],\n",
       "        [-1.57421552e+01, -1.97736828e+01, -2.28102652e+01, ...,\n",
       "         -1.91753495e+01, -1.38386405e+01, -5.17869496e+00],\n",
       "        ...,\n",
       "        [ 3.23621846e+01,  4.84370867e+01,  5.34340920e+01, ...,\n",
       "          4.67460589e+00, -4.86765880e-01, -1.32060558e+01],\n",
       "        [ 4.06105879e+01,  5.68282785e+01,  6.19589544e+01, ...,\n",
       "          6.68846311e+00,  1.14053164e+00, -1.19569053e+01],\n",
       "        [ 5.15774327e+01,  6.80437553e+01,  7.33966309e+01, ...,\n",
       "          8.01624413e+00,  2.37345015e+00, -1.07535476e+01]],\n",
       "\n",
       "       ...,\n",
       "\n",
       "       [[-7.25127029e+01, -6.91454388e+01, -6.23120550e+01, ...,\n",
       "         -1.15826967e+02, -1.13121085e+02, -1.12285856e+02],\n",
       "        [-5.75670002e+01, -5.32327126e+01, -4.78966710e+01, ...,\n",
       "         -4.79568451e+01, -4.77594582e+01, -4.74109871e+01],\n",
       "        [-2.92179874e+01, -2.76242456e+01, -2.29786374e+01, ...,\n",
       "         -3.75929318e+01, -3.94824304e+01, -4.12620413e+01],\n",
       "        ...,\n",
       "        [ 5.00195171e+00,  1.61253210e+01,  1.09351087e+01, ...,\n",
       "         -1.04615237e+00, -3.50888368e+00,  9.33916282e-01],\n",
       "        [ 9.41875436e+00,  2.08029705e+01,  1.58700011e+01, ...,\n",
       "         -3.82179717e-01, -2.79843444e+00,  1.63660999e+00],\n",
       "        [ 1.07039671e+01,  2.20313117e+01,  1.70425674e+01, ...,\n",
       "         -2.65585022e+00, -5.04730443e+00, -5.61597808e-01]],\n",
       "\n",
       "       [[-3.71307668e+01, -4.02589245e+01, -4.47638307e+01, ...,\n",
       "         -1.06189474e+02, -1.07284909e+02, -1.09414867e+02],\n",
       "        [-4.16942431e+01, -4.12389781e+01, -3.98451309e+01, ...,\n",
       "          4.29748462e+01,  4.25899247e+01,  4.10695814e+01],\n",
       "        [-7.27415713e+01, -7.40155016e+01, -7.58663727e+01, ...,\n",
       "         -1.68870247e+01, -1.61103356e+01, -1.65432139e+01],\n",
       "        ...,\n",
       "        [ 2.14416843e+01,  2.30559220e+01,  2.45268589e+01, ...,\n",
       "         -9.94565382e+00, -1.64124059e+01, -2.29957673e+01],\n",
       "        [ 1.44647946e+01,  1.67140445e+01,  1.88278285e+01, ...,\n",
       "         -1.34367689e+01, -1.98743286e+01, -2.64906654e+01],\n",
       "        [ 1.67411407e+01,  1.92135305e+01,  2.15318857e+01, ...,\n",
       "         -1.45626371e+01, -2.11267348e+01, -2.78921132e+01]],\n",
       "\n",
       "       [[ 5.41193688e+01,  5.62581535e+01,  5.97628841e+01, ...,\n",
       "         -2.20594526e+02, -2.21754007e+02, -2.19398956e+02],\n",
       "        [ 1.40305211e+02,  1.36843502e+02,  1.33767815e+02, ...,\n",
       "         -8.36792273e+01, -8.09093737e+01, -7.88134672e+01],\n",
       "        [ 6.90066568e+01,  6.73982959e+01,  6.43954639e+01, ...,\n",
       "         -3.89551136e+01, -3.46955318e+01, -3.37630206e+01],\n",
       "        ...,\n",
       "        [-2.10229661e+01, -2.45947312e+01, -2.73589169e+01, ...,\n",
       "          3.97262074e+01,  2.44866266e+01,  2.11790978e+01],\n",
       "        [-1.70498615e+01, -2.06682083e+01, -2.34907702e+01, ...,\n",
       "          3.28945476e+01,  1.73612107e+01,  1.37329404e+01],\n",
       "        [-1.17095402e+01, -1.54864431e+01, -1.85036871e+01, ...,\n",
       "          2.84885663e+01,  1.28692339e+01,  9.18816374e+00]]])"
      ]
     },
     "execution_count": 5,
     "metadata": {},
     "output_type": "execute_result"
    }
   ],
   "source": [
    "hand_overt_beta2"
   ]
  },
  {
   "cell_type": "code",
   "execution_count": 6,
   "metadata": {},
   "outputs": [],
   "source": [
    "chans = [26, 27, 28, 35, 36] #specify hand channels with stimulation"
   ]
  },
  {
   "cell_type": "code",
   "execution_count": 7,
   "metadata": {},
   "outputs": [],
   "source": [
    "handchans_hand_overt_beta1 = hand_overt_beta1[:,chans,:] #discard non-hand-specific channels\n",
    "handchans_hand_overt_beta2 = hand_overt_beta2[:,chans,:]\n",
    "handchans_hand_overt_beta3 = hand_overt_beta3[:,chans,:]\n",
    "handchans_hand_overt_gamma1 = hand_overt_gamma1[:,chans,:]\n",
    "handchans_hand_overt_gamma2 = hand_overt_gamma2[:,chans,:]\n",
    "handchans_hand_overt_gammaH = hand_overt_gammaH[:,chans,:]"
   ]
  },
  {
   "cell_type": "code",
   "execution_count": 8,
   "metadata": {},
   "outputs": [],
   "source": [
    "handchansAvg_hand_overt_beta1 = np.mean(handchans_hand_overt_beta1, axis=1) # average across selected channels\n",
    "handchansAvg_hand_overt_beta2 = np.mean(handchans_hand_overt_beta2, axis=1)\n",
    "handchansAvg_hand_overt_beta3 = np.mean(handchans_hand_overt_beta3, axis=1)\n",
    "handchansAvg_hand_overt_gamma1 = np.mean(handchans_hand_overt_gamma1, axis=1)\n",
    "handchansAvg_hand_overt_gamma2 = np.mean(handchans_hand_overt_gamma2, axis=1)\n",
    "handchansAvg_hand_overt_gammaH = np.mean(handchans_hand_overt_gammaH, axis=1)"
   ]
  },
  {
   "cell_type": "code",
   "execution_count": 9,
   "metadata": {},
   "outputs": [],
   "source": [
    "avgAcrossTrials_hand_overt_beta1 = np.mean(handchansAvg_hand_overt_beta1, axis=0) #average across trials as baseline for variance comparison\n",
    "avgAcrossTrials_hand_overt_beta2 = np.mean(handchansAvg_hand_overt_beta2, axis=0)\n",
    "avgAcrossTrials_hand_overt_beta3 = np.mean(handchansAvg_hand_overt_beta3, axis=0)\n",
    "avgAcrossTrials_hand_overt_gamma1 = np.mean(handchansAvg_hand_overt_gamma1, axis=0)\n",
    "avgAcrossTrials_hand_overt_gamma2 = np.mean(handchansAvg_hand_overt_gamma2, axis=0)\n",
    "avgAcrossTrials_hand_overt_gammaH = np.mean(handchansAvg_hand_overt_gammaH, axis=0)"
   ]
  },
  {
   "cell_type": "code",
   "execution_count": 10,
   "metadata": {},
   "outputs": [],
   "source": [
    "def compute_erserd(handchansAvg, avgAcrossTrials):\n",
    "    \n",
    "    #inputs\n",
    "    #handchansAvg: array (epochs x timepoints)\n",
    "    #avgAcrossTrials: baseline for comparing each epoch (1D array of timepoints)\n",
    "    \n",
    "    #outputs\n",
    "    #erserd: averaged variance for frequency band\n",
    "\n",
    "    trialvar = np.zeros((np.shape(handchansAvg)[0], np.shape(handchansAvg)[1]))\n",
    "    for i in range(len(handchansAvg[:,1])):\n",
    "        trialdat = (handchansAvg[i,:] - avgAcrossTrials)**2\n",
    "        trialvar[i,:] = trialdat\n",
    "\n",
    "\n",
    "    erserd = np.mean(trialvar, axis=0)\n",
    "\n",
    "    return erserd"
   ]
  },
  {
   "cell_type": "code",
   "execution_count": 11,
   "metadata": {},
   "outputs": [],
   "source": [
    "#computer erserd for each frequency band\n",
    "erserd_beta1 = compute_erserd(handchansAvg_hand_overt_beta1, avgAcrossTrials_hand_overt_beta1)\n",
    "erserd_beta2 = compute_erserd(handchansAvg_hand_overt_beta2, avgAcrossTrials_hand_overt_beta2)\n",
    "erserd_beta3 = compute_erserd(handchansAvg_hand_overt_beta3, avgAcrossTrials_hand_overt_beta3)\n",
    "erserd_gamma1 = compute_erserd(handchansAvg_hand_overt_gamma1, avgAcrossTrials_hand_overt_gamma1)\n",
    "erserd_gamma2 = compute_erserd(handchansAvg_hand_overt_gamma2, avgAcrossTrials_hand_overt_gamma2)\n",
    "erserd_gammaH = compute_erserd(handchansAvg_hand_overt_gammaH, avgAcrossTrials_hand_overt_gammaH)"
   ]
  },
  {
   "cell_type": "code",
   "execution_count": 12,
   "metadata": {},
   "outputs": [
    {
     "data": {
      "image/png": "[encoded data removed]",
      "text/plain": [
       "<Figure size 432x288 with 1 Axes>"
      ]
     },
     "metadata": {
      "needs_background": "light"
     },
     "output_type": "display_data"
    }
   ],
   "source": [
    "# make data\n",
    "x = np.arange(0, 10, .1)\n",
    "y = 4 + 2 * np.sin(2 * x)\n",
    "\n",
    "# plot\n",
    "fig, ax = plt.subplots()\n",
    "\n",
    "ax.plot(x, y, linewidth=2.0)\n",
    "\n",
    "ax.set(xlim=(0, 8), xticks=np.arange(1, 8),\n",
    "       ylim=(0, 8), yticks=np.arange(1, 8))\n",
    "\n",
    "plt.show()"
   ]
  },
  {
   "cell_type": "code",
   "execution_count": 13,
   "metadata": {
    "scrolled": true
   },
   "outputs": [],
   "source": [
    "plotdat = np.zeros((6, 4001))\n",
    "\n",
    "plotdat[0,:] = erserd_beta1\n",
    "plotdat[1,:] = erserd_beta2\n",
    "plotdat[2,:] = erserd_beta3\n",
    "plotdat[3,:] = erserd_gamma1\n",
    "plotdat[4,:] = erserd_gamma2\n",
    "plotdat[5,:] = erserd_gammaH"
   ]
  },
  {
   "cell_type": "code",
   "execution_count": 14,
   "metadata": {},
   "outputs": [
    {
     "data": {
      "image/png": "[encoded data removed]",
      "text/plain": [
       "<Figure size 432x288 with 1 Axes>"
      ]
     },
     "metadata": {
      "needs_background": "light"
     },
     "output_type": "display_data"
    }
   ],
   "source": [
    "fig, ax = plt.subplots()\n",
    "\n",
    "ax.pcolormesh(plotdat)\n",
    "\n",
    "plt.show()"
   ]
  },
  {
   "cell_type": "code",
   "execution_count": 15,
   "metadata": {},
   "outputs": [
    {
     "data": {
      "image/png": "[encoded data removed]",
      "text/plain": [
       "<Figure size 432x288 with 1 Axes>"
      ]
     },
     "metadata": {},
     "output_type": "display_data"
    }
   ],
   "source": [
    "sustained = np.random.normal(loc=0, scale=1.0, size=(1,6))*2\n",
    "dynamic = np.random.normal(loc=0, scale=1.0, size=(1,6))*2\n",
    "\n",
    "plt.style.use('seaborn-white')\n",
    "fig, ax = plt.subplots()\n",
    "ax.hlines(y=range(6), xmin=np.minimum(sustained,dynamic)+0.1, xmax=np.maximum(sustained,dynamic)-0.1, linewidth=2, colors='0.8', alpha=0.5)\n",
    "plt.axvline(x=0, ls=':')\n",
    "ax.scatter(sustained, range(6), s=200, alpha=1, label='sustained')\n",
    "ax.scatter(dynamic, range(6), s=200, alpha=1, label='dynamic')\n",
    "fig.suptitle(\"S1 - Hand\", fontsize=18)\n",
    "plt.title(\"Correlation Between Simulated Movement and Phase Amplitude\", fontsize=12)\n",
    "plt.xlabel(\"Correlation Z-Score\", fontsize=16)\n",
    "plt.ylabel(\"Frequency Band\", fontsize=16)\n",
    "ax.set_yticks([0,1,2,3,4,5])\n",
    "ax.set_yticklabels([str(chr(946)+'1'), str(chr(946)+'2'), str(chr(946)+'3'), str(chr(947)+'1'), str(chr(947)+'2'), str(chr(947)+'H')])\n",
    "ax.legend()\n",
    "plt.show()"
   ]
  },
  {
   "cell_type": "code",
   "execution_count": null,
   "metadata": {},
   "outputs": [],
   "source": [
    "pad = np.arange(0,250)\n",
    "x = np.linspace(0,(6*np.radians(180)),(180*6))\n",
    "y = np.sin(x)\n",
    "plt.plot(x, y)"
   ]
  },
  {
   "cell_type": "code",
   "execution_count": null,
   "metadata": {},
   "outputs": [],
   "source": [
    "beta = np.mean(handchansAvg_hand_overt_beta1, axis=0)\n",
    "gamma = np.mean(handchansAvg_hand_overt_gammaH, axis=0)\n",
    "\n",
    "oranges = plt.cm.get_cmap('Oranges', 256)\n",
    "z = oranges(np.linspace(0,1,4001))\n",
    "\n",
    "plt.style.use('seaborn-white')\n",
    "fig, ax = plt.subplots()\n",
    "\n",
    "ax.scatter(beta, gamma, c=z, s=2, alpha=1, label='label')\n",
    "fig.suptitle(\"Title\", fontsize=18)\n",
    "plt.title(\"Subtitle\", fontsize=12)\n",
    "plt.xlabel(\"XLabel\", fontsize=16)\n",
    "plt.ylabel(\"YLabel\", fontsize=16)\n",
    "ax.legend()\n",
    "\n",
    "plt.show()"
   ]
  }
 ],
 "metadata": {
  "kernelspec": {
   "display_name": "Python 3",
   "language": "python",
   "name": "python3"
  },
  "language_info": {
   "codemirror_mode": {
    "name": "ipython",
    "version": 3
   },
   "file_extension": ".py",
   "mimetype": "text/x-python",
   "name": "python",
   "nbconvert_exporter": "python",
   "pygments_lexer": "ipython3",
   "version": "3.8.3"
  }
 },
 "nbformat": 4,
 "nbformat_minor": 4
}

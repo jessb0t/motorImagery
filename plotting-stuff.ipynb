{
 "cells": [
  {
   "cell_type": "code",
   "execution_count": null,
   "metadata": {},
   "outputs": [],
   "source": [
    "import numpy as np\n",
    "import matplotlib.pyplot as plt\n",
    "import os\n",
    "import scipy.stats as stat"
   ]
  },
  {
   "cell_type": "code",
   "execution_count": null,
   "metadata": {
    "scrolled": true
   },
   "outputs": [],
   "source": [
    "path = \"/Users/jessraissouni/github/motorImagery/processed_data\"\n",
    "filelist = os.listdir(path)"
   ]
  },
  {
   "cell_type": "code",
   "execution_count": null,
   "metadata": {},
   "outputs": [],
   "source": [
    "for x, file in enumerate(filelist):\n",
    "    print(x, file)"
   ]
  },
  {
   "cell_type": "code",
   "execution_count": null,
   "metadata": {},
   "outputs": [],
   "source": [
    "hand_overt_beta1 = np.load(path + '/' + filelist[7])\n",
    "hand_overt_beta2 = np.load(path + '/' + filelist[2])\n",
    "hand_overt_beta3 = np.load(path + '/' + filelist[6])\n",
    "hand_overt_gamma1 = np.load(path + '/' + filelist[13])\n",
    "hand_overt_gamma2 = np.load(path + '/' + filelist[14])\n",
    "hand_overt_gammaH = np.load(path + '/' + filelist[12])"
   ]
  },
  {
   "cell_type": "code",
   "execution_count": null,
   "metadata": {},
   "outputs": [],
   "source": [
    "hand_overt_beta2"
   ]
  },
  {
   "cell_type": "code",
   "execution_count": null,
   "metadata": {},
   "outputs": [],
   "source": [
    "chans = [26, 27, 28, 35, 36] #specify hand channels with stimulation"
   ]
  },
  {
   "cell_type": "code",
   "execution_count": null,
   "metadata": {},
   "outputs": [],
   "source": [
    "handchans_hand_overt_beta1 = hand_overt_beta1[:,chans,:] #discard non-hand-specific channels\n",
    "handchans_hand_overt_beta2 = hand_overt_beta2[:,chans,:]\n",
    "handchans_hand_overt_beta3 = hand_overt_beta3[:,chans,:]\n",
    "handchans_hand_overt_gamma1 = hand_overt_gamma1[:,chans,:]\n",
    "handchans_hand_overt_gamma2 = hand_overt_gamma2[:,chans,:]\n",
    "handchans_hand_overt_gammaH = hand_overt_gammaH[:,chans,:]"
   ]
  },
  {
   "cell_type": "code",
   "execution_count": null,
   "metadata": {},
   "outputs": [],
   "source": [
    "handchansAvg_hand_overt_beta1 = np.mean(handchans_hand_overt_beta1, axis=1) # average across selected channels\n",
    "handchansAvg_hand_overt_beta2 = np.mean(handchans_hand_overt_beta2, axis=1)\n",
    "handchansAvg_hand_overt_beta3 = np.mean(handchans_hand_overt_beta3, axis=1)\n",
    "handchansAvg_hand_overt_gamma1 = np.mean(handchans_hand_overt_gamma1, axis=1)\n",
    "handchansAvg_hand_overt_gamma2 = np.mean(handchans_hand_overt_gamma2, axis=1)\n",
    "handchansAvg_hand_overt_gammaH = np.mean(handchans_hand_overt_gammaH, axis=1)"
   ]
  },
  {
   "cell_type": "code",
   "execution_count": null,
   "metadata": {},
   "outputs": [],
   "source": [
    "avgAcrossTrials_hand_overt_beta1 = np.mean(handchansAvg_hand_overt_beta1, axis=0) #average across trials as baseline for variance comparison\n",
    "avgAcrossTrials_hand_overt_beta2 = np.mean(handchansAvg_hand_overt_beta2, axis=0)\n",
    "avgAcrossTrials_hand_overt_beta3 = np.mean(handchansAvg_hand_overt_beta3, axis=0)\n",
    "avgAcrossTrials_hand_overt_gamma1 = np.mean(handchansAvg_hand_overt_gamma1, axis=0)\n",
    "avgAcrossTrials_hand_overt_gamma2 = np.mean(handchansAvg_hand_overt_gamma2, axis=0)\n",
    "avgAcrossTrials_hand_overt_gammaH = np.mean(handchansAvg_hand_overt_gammaH, axis=0)"
   ]
  },
  {
   "cell_type": "code",
   "execution_count": null,
   "metadata": {},
   "outputs": [],
   "source": [
    "def compute_erserd(handchansAvg, avgAcrossTrials):\n",
    "    \n",
    "    #inputs\n",
    "    #handchansAvg: array (epochs x timepoints)\n",
    "    #avgAcrossTrials: baseline for comparing each epoch (1D array of timepoints)\n",
    "    \n",
    "    #outputs\n",
    "    #erserd: averaged variance for frequency band\n",
    "\n",
    "    trialvar = np.zeros((np.shape(handchansAvg)[0], np.shape(handchansAvg)[1]))\n",
    "    for i in range(len(handchansAvg[:,1])):\n",
    "        trialdat = (handchansAvg[i,:] - avgAcrossTrials)**2\n",
    "        trialvar[i,:] = trialdat\n",
    "\n",
    "\n",
    "    erserd = np.mean(trialvar, axis=0)\n",
    "\n",
    "    return erserd"
   ]
  },
  {
   "cell_type": "code",
   "execution_count": null,
   "metadata": {},
   "outputs": [],
   "source": [
    "#computer erserd for each frequency band\n",
    "erserd_beta1 = compute_erserd(handchansAvg_hand_overt_beta1, avgAcrossTrials_hand_overt_beta1)\n",
    "erserd_beta2 = compute_erserd(handchansAvg_hand_overt_beta2, avgAcrossTrials_hand_overt_beta2)\n",
    "erserd_beta3 = compute_erserd(handchansAvg_hand_overt_beta3, avgAcrossTrials_hand_overt_beta3)\n",
    "erserd_gamma1 = compute_erserd(handchansAvg_hand_overt_gamma1, avgAcrossTrials_hand_overt_gamma1)\n",
    "erserd_gamma2 = compute_erserd(handchansAvg_hand_overt_gamma2, avgAcrossTrials_hand_overt_gamma2)\n",
    "erserd_gammaH = compute_erserd(handchansAvg_hand_overt_gammaH, avgAcrossTrials_hand_overt_gammaH)"
   ]
  },
  {
   "cell_type": "code",
   "execution_count": null,
   "metadata": {},
   "outputs": [],
   "source": [
    "# make data\n",
    "x = np.arange(0, 10, .1)\n",
    "y = 4 + 2 * np.sin(2 * x)\n",
    "\n",
    "# plot\n",
    "fig, ax = plt.subplots()\n",
    "\n",
    "ax.plot(x, y, linewidth=2.0)\n",
    "\n",
    "ax.set(xlim=(0, 8), xticks=np.arange(1, 8),\n",
    "       ylim=(0, 8), yticks=np.arange(1, 8))\n",
    "\n",
    "plt.show()"
   ]
  },
  {
   "cell_type": "code",
   "execution_count": null,
   "metadata": {
    "scrolled": true
   },
   "outputs": [],
   "source": [
    "plotdat = np.zeros((6, 4001))\n",
    "\n",
    "plotdat[0,:] = erserd_beta1\n",
    "plotdat[1,:] = erserd_beta2\n",
    "plotdat[2,:] = erserd_beta3\n",
    "plotdat[3,:] = erserd_gamma1\n",
    "plotdat[4,:] = erserd_gamma2\n",
    "plotdat[5,:] = erserd_gammaH"
   ]
  },
  {
   "cell_type": "code",
   "execution_count": null,
   "metadata": {},
   "outputs": [],
   "source": [
    "fig, ax = plt.subplots()\n",
    "\n",
    "ax.pcolormesh(plotdat)\n",
    "\n",
    "plt.show()"
   ]
  },
  {
   "cell_type": "code",
   "execution_count": null,
   "metadata": {},
   "outputs": [],
   "source": [
    "sustained = np.random.normal(loc=0, scale=1.0, size=(1,6))*2\n",
    "dynamic = np.random.normal(loc=0, scale=1.0, size=(1,6))*2\n",
    "\n",
    "plt.style.use('seaborn-white')\n",
    "fig, ax = plt.subplots()\n",
    "ax.hlines(y=range(6), xmin=np.minimum(sustained,dynamic)+0.1, xmax=np.maximum(sustained,dynamic)-0.1, linewidth=2, colors='0.8', alpha=0.5)\n",
    "plt.axvline(x=0, ls=':')\n",
    "ax.scatter(sustained, range(6), s=200, alpha=1, label='sustained')\n",
    "ax.scatter(dynamic, range(6), s=200, alpha=1, label='dynamic')\n",
    "fig.suptitle(\"S1 - Hand\", fontsize=18)\n",
    "plt.title(\"Correlation Between Simulated Movement and Phase Amplitude\", fontsize=12)\n",
    "plt.xlabel(\"Correlation Z-Score\", fontsize=16)\n",
    "plt.ylabel(\"Frequency Band\", fontsize=16)\n",
    "ax.set_yticks([0,1,2,3,4,5])\n",
    "ax.set_yticklabels([str(chr(946)+'1'), str(chr(946)+'2'), str(chr(946)+'3'), str(chr(947)+'1'), str(chr(947)+'2'), str(chr(947)+'H')])\n",
    "ax.legend()\n",
    "plt.show()"
   ]
  }
 ],
 "metadata": {
  "kernelspec": {
   "display_name": "Python 3",
   "language": "python",
   "name": "python3"
  },
  "language_info": {
   "codemirror_mode": {
    "name": "ipython",
    "version": 3
   },
   "file_extension": ".py",
   "mimetype": "text/x-python",
   "name": "python",
   "nbconvert_exporter": "python",
   "pygments_lexer": "ipython3",
   "version": "3.8.3"
  }
 },
 "nbformat": 4,
 "nbformat_minor": 4
}

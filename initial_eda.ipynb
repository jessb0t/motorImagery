{
 "cells": [
  {
   "cell_type": "code",
   "execution_count": 5,
   "metadata": {},
   "outputs": [],
   "source": [
    "# from mat4py import loadmat\n",
    "from scipy.io import loadmat\n",
    "import numpy as np\n",
    "import matplotlib.pyplot as plt"
   ]
  },
  {
   "cell_type": "code",
   "execution_count": 21,
   "metadata": {},
   "outputs": [],
   "source": [
    "import scipy"
   ]
  },
  {
   "cell_type": "code",
   "execution_count": 6,
   "metadata": {},
   "outputs": [],
   "source": [
    "# bp, fp -> participants\n",
    "# im -> imagine movement\n",
    "# mot -> actual movement\n",
    "bp_imag = loadmat('sourcedata/imagery_basic/data/bp_im_t_h.mat') \n",
    "bp_overt = loadmat('sourcedata/imagery_basic/data/bp_mot_t_h.mat')\n",
    "\n",
    "fp_imag = loadmat('sourcedata/imagery_basic/data/fp_im_t_h.mat')\n",
    "fp_overt = loadmat('sourcedata/imagery_basic/data/fp_mot_t_h.mat')\n",
    "\n",
    "hh_imag = loadmat('sourcedata/imagery_basic/data/hh_im_t_h.mat')\n",
    "hh_overt = loadmat('sourcedata/imagery_basic/data/hh_mot_t_h.mat')\n",
    "\n",
    "jc_imag = loadmat('sourcedata/imagery_basic/data/jc_im_t_h.mat')\n",
    "jc_overt = loadmat('sourcedata/imagery_basic/data/jc_mot_t_h.mat')\n",
    "\n",
    "jm_imag = loadmat('sourcedata/imagery_basic/data/jm_im_t_h.mat')\n",
    "jm_overt = loadmat('sourcedata/imagery_basic/data/jm_mot_t_h.mat')\n",
    "\n",
    "rh_imag = loadmat('sourcedata/imagery_basic/data/rh_im_t_h.mat')\n",
    "rh_overt = loadmat('sourcedata/imagery_basic/data/rh_mot_t_h.mat')\n",
    "\n",
    "rr_imag = loadmat('sourcedata/imagery_basic/data/rr_im_t_h.mat')\n",
    "rr_overt = loadmat('sourcedata/imagery_basic/data/rr_mot_t_h.mat')"
   ]
  },
  {
   "cell_type": "code",
   "execution_count": 8,
   "metadata": {},
   "outputs": [
    {
     "data": {
      "text/plain": [
       "array([[  239,   500, -1189, ...,  2663, -5941,   202],\n",
       "       [  434,   693,  -938, ...,  2801, -5819,   543],\n",
       "       [  500,   712,  -798, ...,  2864, -5719,   760],\n",
       "       ...,\n",
       "       [  -20,   385,  1727, ...,  4781, -3001,  7659],\n",
       "       [ -197,   510,  1833, ...,  4780, -2697,  7741],\n",
       "       [ -396,   620,  1903, ...,  4732, -2381,  7853]], dtype=int16)"
      ]
     },
     "execution_count": 8,
     "metadata": {},
     "output_type": "execute_result"
    }
   ],
   "source": [
    "bp_imag['data']"
   ]
  },
  {
   "cell_type": "code",
   "execution_count": 11,
   "metadata": {},
   "outputs": [],
   "source": [
    "data = bp_imag['data']\n",
    "stim = bp_imag['stim']"
   ]
  },
  {
   "cell_type": "code",
   "execution_count": 12,
   "metadata": {},
   "outputs": [],
   "source": [
    "data_scaled = data* 0.0298"
   ]
  },
  {
   "cell_type": "code",
   "execution_count": 13,
   "metadata": {},
   "outputs": [
    {
     "data": {
      "text/plain": [
       "(376600, 46)"
      ]
     },
     "execution_count": 13,
     "metadata": {},
     "output_type": "execute_result"
    }
   ],
   "source": [
    "data.shape"
   ]
  },
  {
   "cell_type": "code",
   "execution_count": 14,
   "metadata": {},
   "outputs": [
    {
     "data": {
      "text/plain": [
       "(376600, 1)"
      ]
     },
     "execution_count": 14,
     "metadata": {},
     "output_type": "execute_result"
    }
   ],
   "source": [
    "stim.shape"
   ]
  },
  {
   "cell_type": "code",
   "execution_count": 15,
   "metadata": {},
   "outputs": [
    {
     "data": {
      "text/plain": [
       "array([ 0, 11, 12], dtype=uint8)"
      ]
     },
     "execution_count": 15,
     "metadata": {},
     "output_type": "execute_result"
    }
   ],
   "source": [
    "np.unique(stim)"
   ]
  },
  {
   "cell_type": "code",
   "execution_count": 16,
   "metadata": {},
   "outputs": [
    {
     "data": {
      "text/plain": [
       "24604"
      ]
     },
     "execution_count": 16,
     "metadata": {},
     "output_type": "execute_result"
    }
   ],
   "source": [
    "data.max()"
   ]
  },
  {
   "cell_type": "code",
   "execution_count": 17,
   "metadata": {},
   "outputs": [
    {
     "data": {
      "text/plain": [
       "array([[ 7.122200e+00,  1.490000e+01, -3.543220e+01, -2.306520e+01,\n",
       "        -7.628800e+00, -2.145600e+01, -2.729680e+01,  6.129860e+01,\n",
       "         5.277580e+01, -5.572600e+00, -1.911372e+02,  2.306520e+01,\n",
       "         1.409540e+01, -1.698600e+01,  1.302260e+01,  4.440200e+01,\n",
       "        -5.110700e+01, -9.351240e+01, -1.102600e+00,  1.206900e+01,\n",
       "         1.373780e+01,  1.630060e+01, -3.367400e+00,  1.108262e+02,\n",
       "         5.107720e+01, -1.728400e+01, -6.171580e+01,  6.794400e+00,\n",
       "         1.326100e+01, -6.171580e+01, -1.078462e+02,  7.619860e+01,\n",
       "        -1.131804e+02, -1.424440e+01, -1.266500e+02, -1.630060e+01,\n",
       "         3.963400e+00,  2.112820e+01, -6.952340e+01, -6.198400e+01,\n",
       "         6.380180e+01,  6.967240e+01,  6.448720e+01,  7.935740e+01,\n",
       "        -1.770418e+02,  6.019600e+00],\n",
       "       [ 1.293320e+01,  2.065140e+01, -2.795240e+01, -2.097920e+01,\n",
       "        -2.711800e+00, -1.427420e+01, -2.684980e+01,  6.415940e+01,\n",
       "         5.745440e+01, -3.903800e+00, -1.940278e+02,  2.854840e+01,\n",
       "         1.433380e+01, -1.695620e+01,  1.263520e+01,  5.527900e+01,\n",
       "        -3.930620e+01, -9.315480e+01, -4.768000e-01,  1.481060e+01,\n",
       "         1.898260e+01,  2.041300e+01,  2.026400e+00,  1.160710e+02,\n",
       "         5.790140e+01, -1.442320e+01, -5.861660e+01,  1.043000e+01,\n",
       "         1.644960e+01, -5.921260e+01, -1.023928e+02,  8.358900e+01,\n",
       "        -1.064456e+02, -1.257560e+01, -1.248918e+02, -1.192000e+01,\n",
       "         8.820800e+00,  2.610480e+01, -6.311640e+01, -6.582820e+01,\n",
       "         6.627520e+01,  7.196700e+01,  7.253320e+01,  8.346980e+01,\n",
       "        -1.734062e+02,  1.618140e+01],\n",
       "       [ 1.490000e+01,  2.121760e+01, -2.378040e+01, -2.342280e+01,\n",
       "        -9.834000e-01, -1.054920e+01, -2.682000e+01,  6.007680e+01,\n",
       "         5.894440e+01, -5.632200e+00, -2.010606e+02,  2.875700e+01,\n",
       "         1.019160e+01, -1.937000e+01,  9.238000e+00,  6.219260e+01,\n",
       "        -3.114100e+01, -9.792280e+01, -3.695200e+00,  1.379740e+01,\n",
       "         2.074080e+01,  2.193280e+01,  5.602400e+00,  1.200046e+02,\n",
       "         6.144760e+01, -1.534700e+01, -6.004700e+01,  1.060880e+01,\n",
       "         1.326100e+01, -5.998740e+01, -1.009028e+02,  8.791000e+01,\n",
       "        -1.010518e+02, -1.430400e+01, -1.293618e+02, -1.287360e+01,\n",
       "         1.043000e+01,  2.831000e+01, -6.010660e+01, -6.967240e+01,\n",
       "         6.415940e+01,  7.050680e+01,  7.613900e+01,  8.534720e+01,\n",
       "        -1.704262e+02,  2.264800e+01],\n",
       "       [ 1.358880e+01,  1.728400e+01, -2.345260e+01, -2.890600e+01,\n",
       "        -2.622400e+00, -9.625400e+00, -2.723720e+01,  5.223940e+01,\n",
       "         5.644120e+01, -1.132400e+01, -2.113714e+02,  2.431680e+01,\n",
       "         3.278000e+00, -2.321420e+01,  4.887200e+00,  6.573880e+01,\n",
       "        -2.765440e+01, -1.062072e+02, -9.446600e+00,  8.969800e+00,\n",
       "         1.799920e+01,  2.157520e+01,  9.297600e+00,  1.205708e+02,\n",
       "         6.129860e+01, -1.984680e+01, -6.594740e+01,  6.347400e+00,\n",
       "         7.837400e+00, -6.380180e+01, -1.032272e+02,  8.907220e+01,\n",
       "        -1.003962e+02, -1.832700e+01, -1.389574e+02, -1.919120e+01,\n",
       "         7.479800e+00,  2.649220e+01, -6.088140e+01, -7.309940e+01,\n",
       "         5.793120e+01,  6.579840e+01,  7.566220e+01,  8.373800e+01,\n",
       "        -1.669694e+02,  2.583660e+01],\n",
       "       [ 1.141340e+01,  1.278420e+01, -2.577700e+01, -3.510440e+01,\n",
       "        -5.095800e+00, -8.999600e+00, -2.831000e+01,  4.490860e+01,\n",
       "         5.066000e+01, -1.886340e+01, -2.225464e+02,  1.808860e+01,\n",
       "        -2.980000e+00, -2.664120e+01,  1.996600e+00,  6.880820e+01,\n",
       "        -2.479360e+01, -1.147598e+02, -1.516820e+01,  1.192000e-01,\n",
       "         1.174120e+01,  2.121760e+01,  1.409540e+01,  1.177994e+02,\n",
       "         6.073240e+01, -2.559820e+01, -7.315900e+01,  1.072800e+00,\n",
       "         2.860800e+00, -6.919560e+01, -1.091872e+02,  8.945960e+01,\n",
       "        -1.039126e+02, -2.345260e+01, -1.515628e+02, -2.631340e+01,\n",
       "         1.460200e+00,  2.237980e+01, -6.463620e+01, -7.730120e+01,\n",
       "         4.943820e+01,  5.974900e+01,  7.292060e+01,  7.992360e+01,\n",
       "        -1.633934e+02,  2.759480e+01],\n",
       "       [ 9.506200e+00,  1.043000e+01, -2.956160e+01, -4.025980e+01,\n",
       "        -6.645400e+00, -7.152000e+00, -2.845900e+01,  3.966380e+01,\n",
       "         4.431260e+01, -2.550880e+01, -2.319334e+02,  1.251600e+01,\n",
       "        -6.645400e+00, -2.881660e+01, -8.940000e-02,  7.068560e+01,\n",
       "        -1.951900e+01, -1.227760e+02, -2.077060e+01, -1.230740e+01,\n",
       "         4.648800e+00,  2.065140e+01,  1.907200e+01,  1.149088e+02,\n",
       "         6.004700e+01, -3.069400e+01, -7.932760e+01, -2.205200e+00,\n",
       "        -2.294600e+00, -7.447020e+01, -1.186040e+02,  8.960860e+01,\n",
       "        -1.082336e+02, -2.905500e+01, -1.650622e+02, -3.251180e+01,\n",
       "        -5.334200e+00,  1.835680e+01, -7.008960e+01, -8.296320e+01,\n",
       "         4.151140e+01,  5.465320e+01,  6.809300e+01,  7.661580e+01,\n",
       "        -1.607114e+02,  2.801200e+01],\n",
       "       [ 9.834000e+00,  9.893600e+00, -3.146880e+01, -4.276300e+01,\n",
       "        -5.691800e+00, -3.993200e+00, -2.482340e+01,  3.671360e+01,\n",
       "         4.109420e+01, -2.935300e+01, -2.379530e+02,  8.522800e+00,\n",
       "        -7.777800e+00, -2.679020e+01, -5.364000e-01,  7.196700e+01,\n",
       "        -1.242660e+01, -1.288254e+02, -2.610480e+01, -2.327380e+01,\n",
       "        -2.533000e+00,  2.026400e+01,  2.351220e+01,  1.159816e+02,\n",
       "         5.954040e+01, -3.409120e+01, -8.308240e+01, -3.844200e+00,\n",
       "        -8.046000e+00, -7.783760e+01, -1.279612e+02,  8.937020e+01,\n",
       "        -1.099620e+02, -3.415080e+01, -1.754028e+02, -3.885920e+01,\n",
       "        -1.096640e+01,  1.624100e+01, -7.384440e+01, -8.925100e+01,\n",
       "         3.519380e+01,  5.292480e+01,  6.174560e+01,  7.444040e+01,\n",
       "        -1.594896e+02,  2.780340e+01],\n",
       "       [ 1.224780e+01,  9.953200e+00, -3.105160e+01, -4.201800e+01,\n",
       "        -2.831000e+00, -1.788000e-01, -1.823760e+01,  3.543220e+01,\n",
       "         4.201800e+01, -3.123040e+01, -2.406946e+02,  6.883800e+00,\n",
       "        -7.867200e+00, -2.038320e+01,  3.158800e+00,  7.542380e+01,\n",
       "        -6.138800e+00, -1.329378e+02, -2.962120e+01, -2.816100e+01,\n",
       "        -9.029400e+00,  2.053220e+01,  2.798220e+01,  1.225376e+02,\n",
       "         6.100060e+01, -3.659440e+01, -8.415520e+01, -4.082600e+00,\n",
       "        -1.385700e+01, -7.947660e+01, -1.340106e+02,  8.847620e+01,\n",
       "        -1.094256e+02, -3.856120e+01, -1.814224e+02, -4.556420e+01,\n",
       "        -1.522780e+01,  1.653900e+01, -7.533440e+01, -9.530040e+01,\n",
       "         3.045560e+01,  5.259700e+01,  5.721600e+01,  7.169880e+01,\n",
       "        -1.589532e+02,  2.857820e+01],\n",
       "       [ 1.341000e+01,  7.986400e+00, -3.227340e+01, -4.040880e+01,\n",
       "        -1.788000e+00,  2.294600e+00, -1.355900e+01,  3.319720e+01,\n",
       "         4.419340e+01, -3.295880e+01, -2.426018e+02,  6.228200e+00,\n",
       "        -8.314200e+00, -1.504900e+01,  8.075800e+00,  7.798660e+01,\n",
       "        -5.274600e+00, -1.381826e+02, -3.236280e+01, -3.054500e+01,\n",
       "        -1.311200e+01,  1.978720e+01,  3.012780e+01,  1.313584e+02,\n",
       "         6.195420e+01, -4.046840e+01, -8.463200e+01, -4.708400e+00,\n",
       "        -2.094940e+01, -8.183080e+01, -1.377356e+02,  8.531740e+01,\n",
       "        -1.112732e+02, -4.288220e+01, -1.859222e+02, -5.375920e+01,\n",
       "        -2.071100e+01,  1.656880e+01, -7.816540e+01, -1.016478e+02,\n",
       "         2.658160e+01,  4.893160e+01,  5.378900e+01,  6.705000e+01,\n",
       "        -1.596982e+02,  2.902520e+01],\n",
       "       [ 1.335040e+01,  1.907200e+00, -3.528320e+01, -4.040880e+01,\n",
       "        -4.470000e+00,  8.344000e-01, -1.570460e+01,  2.774380e+01,\n",
       "         4.321000e+01, -3.567060e+01, -2.463864e+02,  3.248200e+00,\n",
       "        -9.595600e+00, -1.594300e+01,  1.090680e+01,  7.464900e+01,\n",
       "        -1.066840e+01, -1.459008e+02, -3.656460e+01, -3.501500e+01,\n",
       "        -1.478080e+01,  1.618140e+01,  2.777360e+01,  1.373482e+02,\n",
       "         5.873580e+01, -4.636880e+01, -8.686700e+01, -8.820800e+00,\n",
       "        -3.096220e+01, -8.591340e+01, -1.422056e+02,  7.908920e+01,\n",
       "        -1.163392e+02, -4.812700e+01, -1.919120e+02, -6.430840e+01,\n",
       "        -2.887620e+01,  1.299280e+01, -8.469160e+01, -1.091574e+02,\n",
       "         2.133680e+01,  4.023000e+01,  4.765020e+01,  6.109000e+01,\n",
       "        -1.628868e+02,  2.825040e+01]])"
      ]
     },
     "execution_count": 17,
     "metadata": {},
     "output_type": "execute_result"
    }
   ],
   "source": [
    "data_scaled[:10]"
   ]
  },
  {
   "cell_type": "code",
   "execution_count": null,
   "metadata": {},
   "outputs": [],
   "source": [
    "scipy."
   ]
  },
  {
   "cell_type": "code",
   "execution_count": 20,
   "metadata": {},
   "outputs": [
    {
     "data": {
      "image/png": "[encoded data removed]",
      "text/plain": [
       "<Figure size 432x288 with 1 Axes>"
      ]
     },
     "metadata": {
      "needs_background": "light"
     },
     "output_type": "display_data"
    }
   ],
   "source": [
    "plt.plot(data_scaled[:1000, :3]);"
   ]
  },
  {
   "cell_type": "code",
   "execution_count": 25,
   "metadata": {},
   "outputs": [],
   "source": [
    "from scipy.fft import fft, fftfreq, fftshift"
   ]
  },
  {
   "cell_type": "code",
   "execution_count": 24,
   "metadata": {},
   "outputs": [
    {
     "data": {
      "text/plain": [
       "(376600, 46)"
      ]
     },
     "execution_count": 24,
     "metadata": {},
     "output_type": "execute_result"
    }
   ],
   "source": [
    "fft(data_scaled)"
   ]
  },
  {
   "cell_type": "code",
   "execution_count": 30,
   "metadata": {},
   "outputs": [
    {
     "data": {
      "text/plain": [
       "(376600,)"
      ]
     },
     "execution_count": 30,
     "metadata": {},
     "output_type": "execute_result"
    }
   ],
   "source": [
    "data_scaled[:, 0].shape"
   ]
  },
  {
   "cell_type": "code",
   "execution_count": 31,
   "metadata": {},
   "outputs": [
    {
     "data": {
      "text/plain": [
       "[<matplotlib.lines.Line2D at 0x1246cb460>,\n",
       " <matplotlib.lines.Line2D at 0x1246cb4c0>]"
      ]
     },
     "execution_count": 31,
     "metadata": {},
     "output_type": "execute_result"
    },
    {
     "data": {
      "image/png": "[encoded data removed]",
      "text/plain": [
       "<Figure size 432x288 with 1 Axes>"
      ]
     },
     "metadata": {
      "needs_background": "light"
     },
     "output_type": "display_data"
    }
   ],
   "source": [
    "sp = fftshift(fft(data_scaled[:, 0]))\n",
    "freq = fftfreq(len(data_scaled))\n",
    "plt.plot(freq, sp.real, freq, sp.imag)"
   ]
  },
  {
   "cell_type": "code",
   "execution_count": 49,
   "metadata": {},
   "outputs": [
    {
     "data": {
      "text/plain": [
       "(0.0, 200.0)"
      ]
     },
     "execution_count": 49,
     "metadata": {},
     "output_type": "execute_result"
    },
    {
     "data": {
      "image/png": "[encoded data removed]",
      "text/plain": [
       "<Figure size 432x288 with 1 Axes>"
      ]
     },
     "metadata": {
      "needs_background": "light"
     },
     "output_type": "display_data"
    }
   ],
   "source": [
    "yf = fft(data_scaled[:, 0])\n",
    "xf = fftfreq(N, 1 / SAMPLE_RATE)\n",
    "\n",
    "plt.plot(xf, np.abs(yf), alpha =1)# label=\"channel \"+ str(channel))\n",
    "plt.xlim(0, 200)"
   ]
  },
  {
   "cell_type": "code",
   "execution_count": 47,
   "metadata": {},
   "outputs": [
    {
     "name": "stderr",
     "output_type": "stream",
     "text": [
      "No artists with labels found to put in legend.  Note that artists whose label start with an underscore are ignored when legend() is called with no argument.\n"
     ]
    },
    {
     "data": {
      "image/png": "[encoded data removed]",
      "text/plain": [
       "<Figure size 432x288 with 1 Axes>"
      ]
     },
     "metadata": {
      "needs_background": "light"
     },
     "output_type": "display_data"
    }
   ],
   "source": [
    "# Number of samples in normalized_tone\n",
    "N = len(data)\n",
    "SAMPLE_RATE = 1000\n",
    "\n",
    "for channel in range(data_scaled.shape[1]):\n",
    "    yf = fft(data_scaled[:, channel])\n",
    "    xf = fftfreq(N, 1 / SAMPLE_RATE)\n",
    "    \n",
    "    plt.plot(xf, np.abs(yf), alpha =0.4)# label=\"channel \"+ str(channel))\n",
    "    plt.xlim(0, 200)\n",
    "\n",
    "\n",
    "plt.legend()\n",
    "plt.show()"
   ]
  },
  {
   "cell_type": "code",
   "execution_count": null,
   "metadata": {},
   "outputs": [],
   "source": [
    "plt.plot(freq, sp.real, freq, sp.imag)"
   ]
  },
  {
   "cell_type": "code",
   "execution_count": 29,
   "metadata": {},
   "outputs": [
    {
     "data": {
      "text/plain": [
       "array([17.6416    -0.j        , 12.56525209-6.30233141j,\n",
       "       11.01208836+1.89367946j, ..., 12.12206473-6.90054322j,\n",
       "       11.01208836-1.89367946j, 12.56525209+6.30233141j])"
      ]
     },
     "execution_count": 29,
     "metadata": {},
     "output_type": "execute_result"
    }
   ],
   "source": [
    "sp"
   ]
  },
  {
   "cell_type": "code",
   "execution_count": 18,
   "metadata": {},
   "outputs": [
    {
     "data": {
      "text/plain": [
       "array([[  239,   500, -1189,  -774,  -256,  -720,  -916,  2057,  1771,\n",
       "         -187, -6414,   774,   473,  -570,   437,  1490, -1715, -3138,\n",
       "          -37,   405,   461,   547,  -113,  3719,  1714,  -580, -2071,\n",
       "          228,   445, -2071, -3619,  2557, -3798,  -478, -4250,  -547,\n",
       "          133,   709, -2333, -2080,  2141,  2338,  2164,  2663, -5941,\n",
       "          202],\n",
       "       [  434,   693,  -938,  -704,   -91,  -479,  -901,  2153,  1928,\n",
       "         -131, -6511,   958,   481,  -569,   424,  1855, -1319, -3126,\n",
       "          -16,   497,   637,   685,    68,  3895,  1943,  -484, -1967,\n",
       "          350,   552, -1987, -3436,  2805, -3572,  -422, -4191,  -400,\n",
       "          296,   876, -2118, -2209,  2224,  2415,  2434,  2801, -5819,\n",
       "          543],\n",
       "       [  500,   712,  -798,  -786,   -33,  -354,  -900,  2016,  1978,\n",
       "         -189, -6747,   965,   342,  -650,   310,  2087, -1045, -3286,\n",
       "         -124,   463,   696,   736,   188,  4027,  2062,  -515, -2015,\n",
       "          356,   445, -2013, -3386,  2950, -3391,  -480, -4341,  -432,\n",
       "          350,   950, -2017, -2338,  2153,  2366,  2555,  2864, -5719,\n",
       "          760],\n",
       "       [  456,   580,  -787,  -970,   -88,  -323,  -914,  1753,  1894,\n",
       "         -380, -7093,   816,   110,  -779,   164,  2206,  -928, -3564,\n",
       "         -317,   301,   604,   724,   312,  4046,  2057,  -666, -2213,\n",
       "          213,   263, -2141, -3464,  2989, -3369,  -615, -4663,  -644,\n",
       "          251,   889, -2043, -2453,  1944,  2208,  2539,  2810, -5603,\n",
       "          867],\n",
       "       [  383,   429,  -865, -1178,  -171,  -302,  -950,  1507,  1700,\n",
       "         -633, -7468,   607,  -100,  -894,    67,  2309,  -832, -3851,\n",
       "         -509,     4,   394,   712,   473,  3953,  2038,  -859, -2455,\n",
       "           36,    96, -2322, -3664,  3002, -3487,  -787, -5086,  -883,\n",
       "           49,   751, -2169, -2594,  1659,  2005,  2447,  2682, -5483,\n",
       "          926],\n",
       "       [  319,   350,  -992, -1351,  -223,  -240,  -955,  1331,  1487,\n",
       "         -856, -7783,   420,  -223,  -967,    -3,  2372,  -655, -4120,\n",
       "         -697,  -413,   156,   693,   640,  3856,  2015, -1030, -2662,\n",
       "          -74,   -77, -2499, -3980,  3007, -3632,  -975, -5539, -1091,\n",
       "         -179,   616, -2352, -2784,  1393,  1834,  2285,  2571, -5393,\n",
       "          940],\n",
       "       [  330,   332, -1056, -1435,  -191,  -134,  -833,  1232,  1379,\n",
       "         -985, -7985,   286,  -261,  -899,   -18,  2415,  -417, -4323,\n",
       "         -876,  -781,   -85,   680,   789,  3892,  1998, -1144, -2788,\n",
       "         -129,  -270, -2612, -4294,  2999, -3690, -1146, -5886, -1304,\n",
       "         -368,   545, -2478, -2995,  1181,  1776,  2072,  2498, -5352,\n",
       "          933],\n",
       "       [  411,   334, -1042, -1410,   -95,    -6,  -612,  1189,  1410,\n",
       "        -1048, -8077,   231,  -264,  -684,   106,  2531,  -206, -4461,\n",
       "         -994,  -945,  -303,   689,   939,  4112,  2047, -1228, -2824,\n",
       "         -137,  -465, -2667, -4497,  2969, -3672, -1294, -6088, -1529,\n",
       "         -511,   555, -2528, -3198,  1022,  1765,  1920,  2406, -5334,\n",
       "          959],\n",
       "       [  450,   268, -1083, -1356,   -60,    77,  -455,  1114,  1483,\n",
       "        -1106, -8141,   209,  -279,  -505,   271,  2617,  -177, -4637,\n",
       "        -1086, -1025,  -440,   664,  1011,  4408,  2079, -1358, -2840,\n",
       "         -158,  -703, -2746, -4622,  2863, -3734, -1439, -6239, -1804,\n",
       "         -695,   556, -2623, -3411,   892,  1642,  1805,  2250, -5359,\n",
       "          974],\n",
       "       [  448,    64, -1184, -1356,  -150,    28,  -527,   931,  1450,\n",
       "        -1197, -8268,   109,  -322,  -535,   366,  2505,  -358, -4896,\n",
       "        -1227, -1175,  -496,   543,   932,  4609,  1971, -1556, -2915,\n",
       "         -296, -1039, -2883, -4772,  2654, -3904, -1615, -6440, -2158,\n",
       "         -969,   436, -2842, -3663,   716,  1350,  1599,  2050, -5466,\n",
       "          948]])"
      ]
     },
     "execution_count": 18,
     "metadata": {},
     "output_type": "execute_result"
    }
   ],
   "source": [
    "data_scaled[:10]"
   ]
  },
  {
   "cell_type": "code",
   "execution_count": 17,
   "metadata": {},
   "outputs": [
    {
     "data": {
      "text/plain": [
       "-31905"
      ]
     },
     "execution_count": 17,
     "metadata": {},
     "output_type": "execute_result"
    }
   ],
   "source": [
    "data.min()"
   ]
  },
  {
   "cell_type": "code",
   "execution_count": 6,
   "metadata": {
    "scrolled": true
   },
   "outputs": [
    {
     "data": {
      "text/plain": [
       "dict_keys(['data', 'stim'])"
      ]
     },
     "execution_count": 6,
     "metadata": {},
     "output_type": "execute_result"
    }
   ],
   "source": [
    "bp_imag.keys()"
   ]
  },
  {
   "cell_type": "code",
   "execution_count": 7,
   "metadata": {},
   "outputs": [
    {
     "data": {
      "text/plain": [
       "list"
      ]
     },
     "execution_count": 7,
     "metadata": {},
     "output_type": "execute_result"
    }
   ],
   "source": [
    "type(bp_imag['stim'])"
   ]
  },
  {
   "cell_type": "code",
   "execution_count": null,
   "metadata": {},
   "outputs": [],
   "source": [
    "len(bp_imag['stim'])"
   ]
  },
  {
   "cell_type": "code",
   "execution_count": null,
   "metadata": {},
   "outputs": [],
   "source": [
    "np.unique(bp_imag['stim'])"
   ]
  },
  {
   "cell_type": "code",
   "execution_count": null,
   "metadata": {},
   "outputs": [],
   "source": [
    "bp_imag['data'][10000:10100]"
   ]
  },
  {
   "cell_type": "code",
   "execution_count": null,
   "metadata": {},
   "outputs": [],
   "source": [
    "plt.plot(bp_imag['stim'])"
   ]
  },
  {
   "cell_type": "code",
   "execution_count": null,
   "metadata": {},
   "outputs": [],
   "source": []
  }
 ],
 "metadata": {
  "kernelspec": {
   "display_name": "Python 3 (ipykernel)",
   "language": "python",
   "name": "python3"
  },
  "language_info": {
   "codemirror_mode": {
    "name": "ipython",
    "version": 3
   },
   "file_extension": ".py",
   "mimetype": "text/x-python",
   "name": "python",
   "nbconvert_exporter": "python",
   "pygments_lexer": "ipython3",
   "version": "3.8.2"
  },
  "latex_envs": {
   "LaTeX_envs_menu_present": true,
   "autoclose": false,
   "autocomplete": true,
   "bibliofile": "biblio.bib",
   "cite_by": "apalike",
   "current_citInitial": 1,
   "eqLabelWithNumbers": true,
   "eqNumInitial": 1,
   "hotkeys": {
    "equation": "Ctrl-E",
    "itemize": "Ctrl-I"
   },
   "labels_anchors": false,
   "latex_user_defs": false,
   "report_style_numbering": false,
   "user_envs_cfg": false
  },
  "toc": {
   "base_numbering": 1,
   "nav_menu": {},
   "number_sections": true,
   "sideBar": true,
   "skip_h1_title": false,
   "title_cell": "Table of Contents",
   "title_sidebar": "Contents",
   "toc_cell": false,
   "toc_position": {},
   "toc_section_display": true,
   "toc_window_display": false
  },
  "varInspector": {
   "cols": {
    "lenName": 16,
    "lenType": 16,
    "lenVar": 40
   },
   "kernels_config": {
    "python": {
     "delete_cmd_postfix": "",
     "delete_cmd_prefix": "del ",
     "library": "var_list.py",
     "varRefreshCmd": "print(var_dic_list())"
    },
    "r": {
     "delete_cmd_postfix": ") ",
     "delete_cmd_prefix": "rm(",
     "library": "var_list.r",
     "varRefreshCmd": "cat(var_dic_list()) "
    }
   },
   "types_to_exclude": [
    "module",
    "function",
    "builtin_function_or_method",
    "instance",
    "_Feature"
   ],
   "window_display": false
  }
 },
 "nbformat": 4,
 "nbformat_minor": 4
}
